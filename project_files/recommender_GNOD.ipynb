{
 "cells": [
  {
   "cell_type": "code",
   "execution_count": 1,
   "metadata": {},
   "outputs": [],
   "source": [
    "import pandas as pd\n",
    "import numpy as np\n",
    "import random\n",
    "import pickle\n",
    "\n",
    "import spotipy\n",
    "from spotipy.oauth2 import SpotifyClientCredentials\n",
    "import getpass\n",
    "\n",
    "import warnings\n",
    "warnings.filterwarnings('ignore')"
   ]
  },
  {
   "cell_type": "code",
   "execution_count": 2,
   "metadata": {},
   "outputs": [
    {
     "name": "stdout",
     "output_type": "stream",
     "text": [
      "Enter client_id: ········\n",
      "Enter client_secret: ········\n"
     ]
    }
   ],
   "source": [
    "cl_id = getpass.getpass('Enter client_id: ')\n",
    "cl_secret = getpass.getpass('Enter client_secret: ')\n",
    "\n",
    "sp = spotipy.Spotify(auth_manager = SpotifyClientCredentials(client_id = cl_id, client_secret = cl_secret))"
   ]
  },
  {
   "cell_type": "code",
   "execution_count": 3,
   "metadata": {},
   "outputs": [],
   "source": [
    "df_top100 = pd.read_csv('preprocessing_data_notebooks/data/data_hot_100.csv')\n",
    "df_clusters = pd.read_csv('preprocessing_data_notebooks/data/data_clusters.csv')"
   ]
  },
  {
   "cell_type": "code",
   "execution_count": 7,
   "metadata": {},
   "outputs": [
    {
     "name": "stdout",
     "output_type": "stream",
     "text": [
      "Enter song: song 2\n",
      "Enter artist: blur\n"
     ]
    }
   ],
   "source": [
    "user_song = str(input('Enter song: ')).lower()\n",
    "user_artist = str(input('Enter artist: ')).lower()"
   ]
  },
  {
   "cell_type": "code",
   "execution_count": 8,
   "metadata": {},
   "outputs": [],
   "source": [
    "def get_from_top100(song_title, artist_name, data):\n",
    "    # This function needs title, artist, and top100 dataframe\n",
    "    # Set initial variables\n",
    "    rec_title, rec_artist = song_title, artist_name\n",
    "    # Ganerate random index\n",
    "    random_index = random.choice(range(data.shape[0]))\n",
    "    # Repeat search until song is not the same\n",
    "    while ( rec_title.lower() == song_title ) & ( rec_artist.lower() == artist_name ):\n",
    "        rec_title = data.loc[random_index]['song']\n",
    "        rec_artist = data.loc[random_index]['artist']\n",
    "    print('Recommended song is:\\nArtist: {}\\nTitle: {}'.format(rec_artist, rec_title))"
   ]
  },
  {
   "cell_type": "code",
   "execution_count": 9,
   "metadata": {},
   "outputs": [],
   "source": [
    "def get_features(song_title, artist_name):\n",
    "    # Connect to spotify\n",
    "    sp = spotipy.Spotify(auth_manager=SpotifyClientCredentials(client_id=cl_id, client_secret=cl_secret))\n",
    "    # Search for the song and limit to 1 best match\n",
    "    search_result = sp.search(q = song_title + ' artist:' + artist_name, type='track', limit=1)\n",
    "    # Get URI\n",
    "    uri = search_result[\"tracks\"][\"items\"][0]['id']\n",
    "    # Get song featuresd from Spotify\n",
    "    features = sp.audio_features(uri)[0]\n",
    "    return features"
   ]
  },
  {
   "cell_type": "code",
   "execution_count": 12,
   "metadata": {},
   "outputs": [],
   "source": [
    "def get_from_clusters(song_title, artist_name, data):\n",
    "    # Get user song features from Spotify\n",
    "    song_features = get_features(song_title, artist_name)\n",
    "    # Create dataframe\n",
    "    df_features = pd.DataFrame.from_dict(song_features, orient='index').transpose()\n",
    "    # Select only useful features\n",
    "    song_features = df_features[['danceability', 'energy', 'key', 'loudness', 'speechiness', 'acousticness', \n",
    "                                 'instrumentalness', 'liveness', 'valence', 'tempo']]\n",
    "    # Convert all numbers to float\n",
    "    for i in song_features.columns:\n",
    "        song_features[i] = song_features[i].astype(float)\n",
    "    \n",
    "    # Load models\n",
    "    scaler = pickle.load(open('preprocessing_data_notebooks/models/StandardScaler.pkl','rb'))\n",
    "    kmeans = pickle.load(open('preprocessing_data_notebooks/models/kmeans.pkl','rb'))\n",
    "    # Find matching cluster\n",
    "    user_song_scaled = scaler.transform(song_features) \n",
    "    user_song_cluster = kmeans.predict(user_song_scaled)\n",
    "    # Select songs from the cluster\n",
    "    clust_ = data[data['cluster'] == list(user_song_cluster)[0]]\n",
    "    # Get random song from the cluster\n",
    "    random_song = random.choice(range(clust_.shape[0]))\n",
    "    title = clust_.iloc[random_song]['song']\n",
    "    artist = clust_.iloc[random_song]['artist']\n",
    "    print('Recommended song from Spotify tracklist:\\nArtist: {}\\nTitle: {}'.format(artist, title))"
   ]
  },
  {
   "cell_type": "code",
   "execution_count": 11,
   "metadata": {},
   "outputs": [
    {
     "name": "stdout",
     "output_type": "stream",
     "text": [
      "Recommended song from Spotify tracklist:\n",
      "Artist: PSY\n",
      "Title: DADDY ft. CL of 2NE1\n"
     ]
    }
   ],
   "source": [
    "if len(df_top100[(df_top100['song'].str.lower() == user_song) & (df_top100['artist'].str.lower() == user_artist)]) != 0:\n",
    "    \n",
    "    get_from_top100(user_song, user_artist, df_top100)\n",
    "    \n",
    "else:\n",
    "    \n",
    "    get_from_clusters(user_song, user_artist, df_clusters)"
   ]
  }
 ],
 "metadata": {
  "kernelspec": {
   "display_name": "Python 3",
   "language": "python",
   "name": "python3"
  },
  "language_info": {
   "codemirror_mode": {
    "name": "ipython",
    "version": 3
   },
   "file_extension": ".py",
   "mimetype": "text/x-python",
   "name": "python",
   "nbconvert_exporter": "python",
   "pygments_lexer": "ipython3",
   "version": "3.8.5"
  }
 },
 "nbformat": 4,
 "nbformat_minor": 4
}
